{
  "nbformat": 4,
  "nbformat_minor": 0,
  "metadata": {
    "colab": {
      "provenance": [],
      "authorship_tag": "ABX9TyPiRAVtxrA0Z1l8VpbI3jbG",
      "include_colab_link": true
    },
    "kernelspec": {
      "name": "python3",
      "display_name": "Python 3"
    },
    "language_info": {
      "name": "python"
    }
  },
  "cells": [
    {
      "cell_type": "markdown",
      "metadata": {
        "id": "view-in-github",
        "colab_type": "text"
      },
      "source": [
        "<a href=\"https://colab.research.google.com/github/Vaibhav074N/PPT-Assigement-2/blob/main/PPT_Assigement_2.ipynb\" target=\"_parent\"><img src=\"https://colab.research.google.com/assets/colab-badge.svg\" alt=\"Open In Colab\"/></a>"
      ]
    },
    {
      "cell_type": "markdown",
      "source": [
        "<aside>\n",
        "💡 **Question 1**\n",
        "Given an integer array nums of 2n integers, group these integers into n pairs (a1, b1), (a2, b2),..., (an, bn) such that the sum of min(ai, bi) for all i is maximized. Return the maximized sum.\n",
        "\n",
        "**Example 1:**\n",
        "Input: nums = [1,4,3,2]\n",
        "Output: 4\n",
        "\n",
        "**Explanation:** All possible pairings (ignoring the ordering of elements) are:\n",
        "\n",
        "1. (1, 4), (2, 3) -> min(1, 4) + min(2, 3) = 1 + 2 = 3\n",
        "2. (1, 3), (2, 4) -> min(1, 3) + min(2, 4) = 1 + 2 = 3\n",
        "3. (1, 2), (3, 4) -> min(1, 2) + min(3, 4) = 1 + 3 = 4\n",
        "So the maximum possible sum is 4\n",
        "</aside>"
      ],
      "metadata": {
        "id": "0Crlq0mYwiAg"
      }
    },
    {
      "cell_type": "code",
      "execution_count": null,
      "metadata": {
        "id": "We0nYt0YwRNJ",
        "colab": {
          "base_uri": "https://localhost:8080/"
        },
        "outputId": "3f788858-6ad5-41f2-d638-c04c48a80c78"
      },
      "outputs": [
        {
          "output_type": "stream",
          "name": "stdout",
          "text": [
            "4\n"
          ]
        }
      ],
      "source": [
        "def pairs(arr):\n",
        "  arr.sort()\n",
        "  max_sum=0\n",
        "  for i in range(0,len(arr),2):\n",
        "    max_sum += arr[i]\n",
        "\n",
        "  return max_sum\n",
        "\n",
        "arr=[1,4,3,2]\n",
        "print(pairs(arr))"
      ]
    },
    {
      "cell_type": "markdown",
      "source": [
        "Question 2\n",
        "Alice has n candies, where the ith candy is of type candyType[i]. Alice noticed that she started to gain weight, so she visited a doctor.\n",
        "\n",
        "The doctor advised Alice to only eat n / 2 of the candies she has (n is always even). Alice likes her candies very much, and she wants to eat the maximum number of different types of candies while still following the doctor's advice.\n",
        "\n",
        "Given the integer array candyType of length n, return the maximum number of different types of candies she can eat if she only eats n / 2 of them.\n",
        "\n",
        "Example 1:\n",
        "Input: candyType = [1,1,2,2,3,3]\n",
        "Output: 3\n",
        "\n",
        "Explanation: Alice can only eat 6 / 2 = 3 candies. Since there are only 3 types, she can eat one of each type."
      ],
      "metadata": {
        "id": "syAY0eeHwnuk"
      }
    },
    {
      "cell_type": "code",
      "source": [
        "def candies(arr):\n",
        "  max_cadies=len(arr)//2\n",
        "  unique_candies=len(set(arr))\n",
        "\n",
        "  return min(max_cadies,unique_candies)\n",
        "\n",
        "candyType = [1,1,2,2,3,3]\n",
        "print(candies(candyType))"
      ],
      "metadata": {
        "id": "c0oE-ESYwrTL",
        "colab": {
          "base_uri": "https://localhost:8080/"
        },
        "outputId": "48a769ab-a0d1-4bcf-9f98-8fc2e165a55f"
      },
      "execution_count": null,
      "outputs": [
        {
          "output_type": "stream",
          "name": "stdout",
          "text": [
            "3\n"
          ]
        }
      ]
    },
    {
      "cell_type": "markdown",
      "source": [
        "Question 3\n",
        "We define a harmonious array as an array where the difference between its maximum value\n",
        "and its minimum value is exactly 1.\n",
        "\n",
        "Given an integer array nums, return the length of its longest harmonious subsequence\n",
        "among all its possible subsequences.\n",
        "\n",
        "A subsequence of an array is a sequence that can be derived from the array by deleting some or no elements without changing the order of the remaining elements.\n",
        "\n",
        "Example 1:\n",
        "Input: nums = [1,3,2,2,5,2,3,7]\n",
        "Output: 5\n",
        "\n",
        "Explanation: The longest harmonious subsequence is [3,2,2,2,3]."
      ],
      "metadata": {
        "id": "zaUksvxpwsdM"
      }
    },
    {
      "cell_type": "code",
      "source": [
        "def long_sub(nums):\n",
        "  freq={}\n",
        "  max_length=0\n",
        "\n",
        "  for i in nums:\n",
        "    freq[i] = freq.get(i,0)+1\n",
        "\n",
        "  for i in freq:\n",
        "    if i+1 in freq:\n",
        "      length=freq[i]+freq[i+1]\n",
        "      max_length=max(max_length,length)\n",
        "\n",
        "  return max_length\n",
        "\n",
        "nums = [1,3,2,2,5,2,3,7]\n",
        "print(long_sub(nums))"
      ],
      "metadata": {
        "id": "D94Z84qjwvyK",
        "colab": {
          "base_uri": "https://localhost:8080/"
        },
        "outputId": "555f03cd-e647-4394-e49e-99e13193382d"
      },
      "execution_count": null,
      "outputs": [
        {
          "output_type": "stream",
          "name": "stdout",
          "text": [
            "5\n"
          ]
        }
      ]
    },
    {
      "cell_type": "markdown",
      "source": [
        "Question 4\n",
        "You have a long flowerbed in which some of the plots are planted, and some are not.\n",
        "However, flowers cannot be planted in adjacent plots.\n",
        "Given an integer array flowerbed containing 0's and 1's, where 0 means empty and 1 means not empty, and an integer n, return true if n new flowers can be planted in the flowerbed without violating the no-adjacent-flowers rule and false otherwise.\n",
        "\n",
        "Example 1:\n",
        "Input: flowerbed = [1,0,0,0,1], n = 1\n",
        "Output: true"
      ],
      "metadata": {
        "id": "Rd2kdYx7wwff"
      }
    },
    {
      "cell_type": "code",
      "source": [
        "def canPlaceFlowers(flowerbed, n):\n",
        "    count = 0\n",
        "    i = 0\n",
        "    while i < len(flowerbed):\n",
        "        if flowerbed[i] == 0:\n",
        "            if i == 0 or flowerbed[i - 1] == 0:\n",
        "                if i == len(flowerbed) - 1 or flowerbed[i + 1] == 0:\n",
        "                    flowerbed[i] = 1\n",
        "                    count += 1\n",
        "        i += 1\n",
        "\n",
        "    return count >= n\n",
        "\n",
        "flowerbed = [1, 0, 0, 0, 1]\n",
        "n = 1\n",
        "result = canPlaceFlowers(flowerbed, n)\n",
        "print(result)"
      ],
      "metadata": {
        "id": "qYmI8QcTw0Cy",
        "colab": {
          "base_uri": "https://localhost:8080/"
        },
        "outputId": "6536e9fb-26e8-4173-afaa-a398b4480321"
      },
      "execution_count": null,
      "outputs": [
        {
          "output_type": "stream",
          "name": "stdout",
          "text": [
            "True\n"
          ]
        }
      ]
    },
    {
      "cell_type": "markdown",
      "source": [
        "Question 5\n",
        "Given an integer array nums, find three numbers whose product is maximum and return the maximum product.\n",
        "\n",
        "Example 1:\n",
        "Input: nums = [1,2,3]\n",
        "Output: 6"
      ],
      "metadata": {
        "id": "7ztK5H73w07J"
      }
    },
    {
      "cell_type": "code",
      "source": [
        "def product(nums):\n",
        "\n",
        "  for i in range(len(nums)):\n",
        "    return nums[i]*nums[i+1]*nums[i+2]\n",
        "\n",
        "nums = [1,2,3]\n",
        "print(product(nums))"
      ],
      "metadata": {
        "id": "oHNI81lzw2-O",
        "colab": {
          "base_uri": "https://localhost:8080/"
        },
        "outputId": "0bf39c27-e6eb-4339-d96c-286872b3db4d"
      },
      "execution_count": null,
      "outputs": [
        {
          "output_type": "stream",
          "name": "stdout",
          "text": [
            "6\n"
          ]
        }
      ]
    },
    {
      "cell_type": "markdown",
      "source": [
        "Question 6\n",
        "Given an array of integers nums which is sorted in ascending order, and an integer target,\n",
        "write a function to search target in nums. If target exists, then return its index. Otherwise,\n",
        "return -1.\n",
        "\n",
        "You must write an algorithm with O(log n) runtime complexity.\n",
        "\n",
        "Input: nums = [-1,0,3,5,9,12], target = 9\n",
        "Output: 4\n",
        "\n",
        "Explanation: 9 exists in nums and its index is 4"
      ],
      "metadata": {
        "id": "72XSGEIBw5Nl"
      }
    },
    {
      "cell_type": "code",
      "source": [
        "def index(arr,target):\n",
        "  n=len(arr)\n",
        "  for i in range(n):\n",
        "    if arr[i]==target:\n",
        "      return i\n",
        "    else:\n",
        "      i += 1\n",
        "  return -1\n",
        "\n",
        "nums = [-1,0,3,5,9,12]\n",
        "target=9\n",
        "print(index(nums,target))"
      ],
      "metadata": {
        "id": "s5fTrbnGw50m",
        "colab": {
          "base_uri": "https://localhost:8080/"
        },
        "outputId": "d2466b62-e586-4060-bb40-14582a938dce"
      },
      "execution_count": null,
      "outputs": [
        {
          "output_type": "stream",
          "name": "stdout",
          "text": [
            "4\n"
          ]
        }
      ]
    },
    {
      "cell_type": "code",
      "source": [
        "def search(nums, target):\n",
        "    left = 0\n",
        "    right = len(nums) - 1\n",
        "\n",
        "    while left <= right:\n",
        "        middle = (left + right) // 2\n",
        "\n",
        "        if nums[middle] == target:\n",
        "            return middle\n",
        "        elif nums[middle] > target:\n",
        "            right = middle - 1\n",
        "        else:\n",
        "            left = middle + 1\n",
        "\n",
        "    return -1\n",
        "\n",
        "nums = [-1, 0, 3, 5, 9, 12]\n",
        "target = 9\n",
        "result = search(nums, target)\n",
        "print(result)"
      ],
      "metadata": {
        "colab": {
          "base_uri": "https://localhost:8080/"
        },
        "id": "dNstXT1aLonE",
        "outputId": "09941c6a-2473-4ce7-ef4a-23d242c504e9"
      },
      "execution_count": null,
      "outputs": [
        {
          "output_type": "stream",
          "name": "stdout",
          "text": [
            "4\n"
          ]
        }
      ]
    },
    {
      "cell_type": "markdown",
      "source": [
        "Question 7\n",
        "An array is monotonic if it is either monotone increasing or monotone decreasing.\n",
        "\n",
        "An array nums is monotone increasing if for all i <= j, nums[i] <= nums[j]. An array nums is\n",
        "monotone decreasing if for all i <= j, nums[i] >= nums[j].\n",
        "\n",
        "Given an integer array nums, return true if the given array is monotonic, or false otherwise.\n",
        "\n",
        "Example 1:\n",
        "Input: nums = [1,2,2,3]\n",
        "Output: true"
      ],
      "metadata": {
        "id": "255LMqAQw6cj"
      }
    },
    {
      "cell_type": "code",
      "source": [
        "def isMonotonic(nums):\n",
        "    n = len(nums)\n",
        "    increasing = decreasing = True\n",
        "\n",
        "    for i in range(1, n):\n",
        "        if nums[i] < nums[i - 1]:\n",
        "            increasing = False\n",
        "        if nums[i] > nums[i - 1]:\n",
        "            decreasing = False\n",
        "\n",
        "    return increasing or decreasing\n",
        "\n",
        "nums = [1, 2, 2, 3]\n",
        "result = isMonotonic(nums)\n",
        "print(result)"
      ],
      "metadata": {
        "id": "3-pomNQbw9GK",
        "colab": {
          "base_uri": "https://localhost:8080/"
        },
        "outputId": "66e0f5be-c676-44ce-8087-4b6f8fdc5640"
      },
      "execution_count": 1,
      "outputs": [
        {
          "output_type": "stream",
          "name": "stdout",
          "text": [
            "True\n"
          ]
        }
      ]
    },
    {
      "cell_type": "markdown",
      "source": [
        "Question 8\n",
        "You are given an integer array nums and an integer k.\n",
        "\n",
        "In one operation, you can choose any index i where 0 <= i < nums.length and change nums[i] to nums[i] + x where x is an integer from the range [-k, k]. You can apply this operation at most once for each index i.\n",
        "\n",
        "The score of nums is the difference between the maximum and minimum elements in nums.\n",
        "\n",
        "Return the minimum score of nums after applying the mentioned operation at most once for each index in it.\n",
        "\n",
        "Example 1:\n",
        "Input: nums = [1], k = 0\n",
        "Output: 0\n",
        "\n",
        "Explanation: The score is max(nums) - min(nums) = 1 - 1 = 0."
      ],
      "metadata": {
        "id": "eJy_oTYRxC_l"
      }
    },
    {
      "cell_type": "code",
      "source": [
        "def minScore(nums, k):\n",
        "    minimum = min(nums)\n",
        "    maximum = max(nums)\n",
        "\n",
        "    if maximum - minimum <= 2 * k:\n",
        "        return 0\n",
        "\n",
        "    return maximum - minimum - 2 * k\n",
        "\n",
        "nums = [1]\n",
        "k = 0\n",
        "result = minScore(nums, k)\n",
        "print(result)"
      ],
      "metadata": {
        "id": "bLZWKAxlxDgf",
        "colab": {
          "base_uri": "https://localhost:8080/"
        },
        "outputId": "af48f1be-3fde-4e8b-ad7a-dfecff1b6722"
      },
      "execution_count": 2,
      "outputs": [
        {
          "output_type": "stream",
          "name": "stdout",
          "text": [
            "0\n"
          ]
        }
      ]
    },
    {
      "cell_type": "code",
      "source": [],
      "metadata": {
        "id": "LNuNIEcJ36Mr"
      },
      "execution_count": null,
      "outputs": []
    }
  ]
}